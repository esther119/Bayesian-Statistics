{
  "nbformat": 4,
  "nbformat_minor": 0,
  "metadata": {
    "colab": {
      "name": "Problem 3.ipynb",
      "provenance": [],
      "collapsed_sections": []
    },
    "kernelspec": {
      "name": "python3",
      "display_name": "Python 3"
    },
    "language_info": {
      "name": "python"
    }
  },
  "cells": [
    {
      "cell_type": "markdown",
      "metadata": {
        "id": "HCf60xD8NzkW"
      },
      "source": [
        "Refer back to the medical trial pre-class work notebook. The notebook contains a non-hierarchical\n",
        "model (first) and a hierarchical model (second).\n",
        "For the non-hierarchical model and the control group half of the data set, choose a test statistic to\n",
        "show that the non-hierarchical model does not explain the control group data well. You should\n",
        "generate posterior data samples from this model and compare the test statistic of the real data to\n",
        "the distribution under your samples from the posterior. Note that the posterior distribution for this\n",
        "model is already provided in the notebook, so you don’t have to calculate it.\n",
        "Submit your test statistic function, your code for generating samples from the posterior and\n",
        "computing the test statistic, and a histogram analogous to Gelman Figure 6.4 (reproduced below).\n",
        "Also, calculate and provide your p-value. Since the test statistic is supposed to show a deficiency\n",
        "of the model the p-value should be less than 0.05 or greater than 0.95."
      ]
    },
    {
      "cell_type": "code",
      "metadata": {
        "id": "dKcSWij8Ny-P"
      },
      "source": [
        "import numpy as np\n",
        "import matplotlib.pyplot as plt\n",
        "from scipy import stats\n",
        "\n",
        "data = {\n",
        "    'treatment': {\n",
        "        'improved': 107,\n",
        "        'not improved': 34},\n",
        "    'control': {\n",
        "        'improved': 57,\n",
        "        'not improved': 64},\n",
        "}\n",
        "\n",
        "all_controls = [15,18,10,39,29,10,121]\n",
        "success_controls = [9,11,4,21,12,0,57]"
      ],
      "execution_count": 158,
      "outputs": []
    },
    {
      "cell_type": "markdown",
      "metadata": {
        "id": "wqNXz5c3RU6Y"
      },
      "source": [
        "### Create samples from posterior"
      ]
    },
    {
      "cell_type": "code",
      "metadata": {
        "id": "US3IW3rczbJk"
      },
      "source": [
        "alpha_prior = 1\n",
        "beta_prior = 1\n",
        "alpha_post = alpha_prior + data['control']['improved']\n",
        "beta_post = beta_prior + data['control']['not improved']\n",
        "\n",
        "#sampling from posterior \n",
        "post_control_samples = stats.beta.rvs(a=alpha_post, b=beta_post, size = 10000)"
      ],
      "execution_count": 159,
      "outputs": []
    },
    {
      "cell_type": "code",
      "metadata": {
        "id": "FRi2As-Vze_L"
      },
      "source": [
        "def test_stats(all, success): #calculate test statistics mean, std, and range \n",
        "    success_rate = [] \n",
        "    n = len(all)\n",
        "    for i in range(n):\n",
        "        success_rate.append(success[i]/all[i])\n",
        "    mean = np.mean(success_rate)\n",
        "    std = np.std(success_rate)\n",
        "    max_range = max(success_rate) - min(success_rate)\n",
        "    return round(mean, 2), round(std, 2), round(max_range, 2) \n",
        "\n",
        "real_mean, real_std, real_range = test_stats(all_controls, success_controls)"
      ],
      "execution_count": 160,
      "outputs": []
    },
    {
      "cell_type": "code",
      "metadata": {
        "id": "SxhQ8nTByd0Q"
      },
      "source": [
        "rep_success_controls = [] #generate success cases from our samples for every group\n",
        "for p in post_control_samples: \n",
        "    rep_success_controls.append([int(stats.binom.rvs(all_controls[i], p, size=1)) for i in range(len(all_controls))])"
      ],
      "execution_count": 161,
      "outputs": []
    },
    {
      "cell_type": "code",
      "metadata": {
        "id": "ZxaoEJo06A9B"
      },
      "source": [
        "means = []\n",
        "stds = []\n",
        "max_ranges = []\n",
        "\n",
        "#calculate the test statistics for the generated data \n",
        "for i in range(len(rep_success_controls)):\n",
        "    mean,std, max_range = test_stats(all_controls, rep_success_controls[i])\n",
        "    means.append(mean)\n",
        "    stds.append(std)\n",
        "    max_ranges.append(max_range)"
      ],
      "execution_count": 162,
      "outputs": []
    },
    {
      "cell_type": "code",
      "metadata": {
        "id": "cGh8WULKzw51",
        "colab": {
          "base_uri": "https://localhost:8080/",
          "height": 298
        },
        "outputId": "6c808dfe-8350-44dc-ab47-48134ea2a657"
      },
      "source": [
        "#Compare mean\n",
        "plt.hist(means, color = 'lightseagreen')\n",
        "plt.axvline(x = real_mean, color = 'r', label = 'Real mean')\n",
        "plt.title('Mean of success rate distribution')\n",
        "plt.legend()\n",
        "plt.show()\n",
        "\n",
        "p = np.mean(means < real_mean)\n",
        "print('Mean of success rate differences p-value', p)"
      ],
      "execution_count": 163,
      "outputs": [
        {
          "output_type": "display_data",
          "data": {
            "image/png": "[encoded data removed]",
            "text/plain": [
              "<Figure size 432x288 with 1 Axes>"
            ]
          },
          "metadata": {
            "needs_background": "light"
          }
        },
        {
          "output_type": "stream",
          "name": "stdout",
          "text": [
            "Mean of success rate differences p-value 0.2304\n"
          ]
        }
      ]
    },
    {
      "cell_type": "code",
      "metadata": {
        "colab": {
          "base_uri": "https://localhost:8080/",
          "height": 298
        },
        "id": "k8a-WXMw0sLH",
        "outputId": "6c29d821-9988-43ce-ffd3-b5c5ec0a0b11"
      },
      "source": [
        "#Compare standard deviation\n",
        "plt.hist(stds, color = 'lightseagreen')\n",
        "plt.axvline(x = real_std, color = 'r', label = 'Real mean')\n",
        "plt.title('Standard deviation  of success rate distribution')\n",
        "plt.legend()\n",
        "plt.show()\n",
        "p = np.mean(stds < real_std)\n",
        "print('Standard deviation of success rate differences p-value', p)"
      ],
      "execution_count": 164,
      "outputs": [
        {
          "output_type": "display_data",
          "data": {
            "image/png": "[encoded data removed]",
            "text/plain": [
              "<Figure size 432x288 with 1 Axes>"
            ]
          },
          "metadata": {
            "needs_background": "light"
          }
        },
        {
          "output_type": "stream",
          "name": "stdout",
          "text": [
            "Standard deviation of success rate differences p-value 0.9865\n"
          ]
        }
      ]
    },
    {
      "cell_type": "code",
      "metadata": {
        "colab": {
          "base_uri": "https://localhost:8080/",
          "height": 298
        },
        "id": "NcJ4RA8TMUis",
        "outputId": "4322b952-6d5e-488a-b0e2-f51a12c397d8"
      },
      "source": [
        "#Compare range\n",
        "plt.hist(max_ranges, color = 'lightseagreen')\n",
        "plt.axvline(x = real_range, color = 'r', label = 'Real range')\n",
        "plt.title('Range of success rate distribution')\n",
        "plt.legend()\n",
        "plt.show()\n",
        "p = np.mean([x < real_range for x in max_ranges])\n",
        "print('Range of success rate differences p-value', p)"
      ],
      "execution_count": 167,
      "outputs": [
        {
          "output_type": "display_data",
          "data": {
            "image/png": "[encoded data removed]",
            "text/plain": [
              "<Figure size 432x288 with 1 Axes>"
            ]
          },
          "metadata": {
            "needs_background": "light"
          }
        },
        {
          "output_type": "stream",
          "name": "stdout",
          "text": [
            "Range of success rate differences p-value 0.9901\n"
          ]
        }
      ]
    },
    {
      "cell_type": "markdown",
      "metadata": {
        "id": "paAopcikQj3O"
      },
      "source": [
        "The test statistic for standard deviation and range is 0.9865 and 0.9901. It showcases that though our model has an acceptable success rate estimate for the control group, it doesn't accurately capture the variance and range of the real-world scenario. It might be that our model is non-hierarchical. All in all, more fluctuation for different studies exists than our model in the real world. "
      ]
    }
  ]
}