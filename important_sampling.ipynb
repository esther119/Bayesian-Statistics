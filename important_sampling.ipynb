{
 "cells": [
  {
   "cell_type": "code",
   "execution_count": 1,
   "metadata": {
    "collapsed": false
   },
   "outputs": [
    {
     "data": {
      "image/png": "[encoded data removed]",
      "text/plain": "<Figure size 576x288 with 1 Axes>"
     },
     "metadata": {
      "image/png": {
       "height": 277,
       "width": 503
      },
      "needs_background": "light"
     },
     "output_type": "execute_result"
    }
   ],
   "source": [
    "import numpy as np\n",
    "import scipy.stats as sts\n",
    "import matplotlib.pyplot as plt\n",
    "\n",
    "data = np.array([\n",
    "    -4.127935, -2.152332, 3.046302, -10.77442, -6.985155, 5.536106, 1.294746,\n",
    "    7.638998, -5.650118, -4.478067, -0.4551435, -3.969413, -0.4225518,\n",
    "    -2.462094, 1.886675, 3.095567, 4.310003, 3.305034, 0.8548273, 4.368213])\n",
    "\n",
    "# Plot of the background normal distribution and the data. This shows what we\n",
    "# know about the model. What we don't know is the other normal distribution.\n",
    "\n",
    "plot_mu_range = [-12, 12]\n",
    "plot_sigma_range = [0, 4]\n",
    "plt.figure(figsize=(8, 4))\n",
    "plot_x = np.linspace(plot_mu_range[0], plot_mu_range[1], 500)\n",
    "plot_y = sts.norm.pdf(plot_x, loc=0, scale=4)\n",
    "plt.plot(plot_x, plot_y, 'k-')\n",
    "plt.plot(data, [-0.005] * len(data), 'ko', alpha=0.5)\n",
    "plt.xlim(-12, 12)\n",
    "plt.xlabel('x')\n",
    "plt.ylabel('probability density')\n",
    "plt.xticks([-10, -5, 0, 5, 10])\n",
    "plt.title('Background distribution and data')\n",
    "plt.show()"
   ]
  },
  {
   "cell_type": "code",
   "execution_count": 2,
   "metadata": {
    "collapsed": false
   },
   "outputs": [
    {
     "data": {
      "image/png": "[encoded data removed]",
      "text/plain": "<Figure size 720x648 with 2 Axes>"
     },
     "metadata": {
      "image/png": {
       "height": 549,
       "width": 572
      },
      "needs_background": "light"
     },
     "output_type": "execute_result"
    }
   ],
   "source": [
    "def unnormalized_posterior(mu, sigma, data):\n",
    "    '''\n",
    "    The unnormalized posterior pdf over μ and σ. The pdf depends on the\n",
    "    parameters, `mu` and `sigma`, as well as the `data`.\n",
    "    '''\n",
    "    data = data.reshape((-1,1))  # Make the data a column vector\n",
    "    return (\n",
    "        sts.gamma.pdf(sigma, a=2, scale=1) *\n",
    "        sts.norm.pdf(mu, loc=0, scale=5) *\n",
    "        np.prod(\n",
    "            0.7 * sts.norm.pdf(data, loc=0, scale=4) +\n",
    "            0.3 * sts.norm.pdf(data, loc=mu, scale=np.where(sigma <= 0, 1e-6, sigma)),\n",
    "            axis=0))\n",
    "\n",
    "# Plot of the unormalized posterior using a 2-d contour plot.\n",
    "grid_size = 300\n",
    "mu = np.linspace(plot_mu_range[0], plot_mu_range[1], grid_size)\n",
    "sigma = np.linspace(plot_sigma_range[0], plot_sigma_range[1], grid_size)\n",
    "mu_grid, sigma_grid = np.meshgrid(mu, sigma)\n",
    "posterior = unnormalized_posterior(\n",
    "    mu_grid.flat[:], sigma_grid.flat[:], data).reshape((grid_size, grid_size))\n",
    "\n",
    "plt.figure(figsize=(10, 9))\n",
    "filled = plt.contourf(mu, sigma, posterior, 11, cmap=plt.cm.YlOrRd_r)\n",
    "lines = plt.contour(mu, sigma, posterior, 11, colors='black')\n",
    "plt.title('Unnormalized posterior over μ and σ.')\n",
    "plt.xlabel('μ')\n",
    "plt.ylabel('σ')\n",
    "color_bar = plt.colorbar(filled)\n",
    "color_bar.add_lines(lines)\n",
    "plt.show()"
   ]
  },
  {
   "cell_type": "markdown",
   "metadata": {
    "collapsed": false
   },
   "source": [
    "## Task 1\n",
    "\n",
    "* There isn't just one right answer here. Any proposal distributions that covers the posterior pdf should be fine.\n",
    "* Note that we do want some $\\sigma > 4$ samples since the posterior pdf still has mass there."
   ]
  },
  {
   "cell_type": "code",
   "execution_count": 3,
   "metadata": {
    "collapsed": false
   },
   "outputs": [
    {
     "data": {
      "image/png": "[encoded data removed]",
      "text/plain": "<Figure size 720x648 with 2 Axes>"
     },
     "metadata": {
      "image/png": {
       "height": 549,
       "width": 571
      },
      "needs_background": "light"
     },
     "output_type": "execute_result"
    }
   ],
   "source": [
    "def good_proposal_rvs(size):\n",
    "    return {\n",
    "        'mu': sts.norm.rvs(loc=0, scale=5, size=size),\n",
    "        'sigma': sts.norm.rvs(loc=3, scale=2, size=size)}\n",
    "\n",
    "\n",
    "# Generate samples\n",
    "num_samples = 10000\n",
    "\n",
    "# The bad proposal distribution is a product of independent normal distributions\n",
    "# over mu and sigma with means [-5, 1.5] and standard deviations [2, 0.5].\n",
    "samples = good_proposal_rvs(num_samples)\n",
    "\n",
    "# Plot of the first 1000 samples on the level plot\n",
    "plt.figure(figsize=(10, 9))\n",
    "filled = plt.contourf(mu, sigma, posterior, 11, cmap=plt.cm.YlOrRd_r)\n",
    "lines = plt.contour(mu, sigma, posterior, 11, colors='black')\n",
    "plt.plot(samples['mu'][:1000], samples['sigma'][:1000], 'o', color='#00c0ff', alpha=0.5)\n",
    "plt.title('Unnormalized log-posterior with samples from the proposal distribution.')\n",
    "plt.xlabel('μ')\n",
    "plt.ylabel('σ')\n",
    "color_bar = plt.colorbar(filled)\n",
    "color_bar.add_lines(lines)\n",
    "plt.show()"
   ]
  },
  {
   "cell_type": "markdown",
   "metadata": {
    "collapsed": false
   },
   "source": [
    "## Task 2\n",
    "Once you have your samples, use them to approximate the following—\n",
    "\n",
    "* The mean and standard deviation of $\\mu$.\n",
    "* The mean and standard deviation of $\\sigma$.\n",
    "\n",
    "Note that you can use the same samples to calculate all four of these values. You do not have to generate new samples every time.\n",
    "\n",
    "You will have to enter the pdf of your proposal distribution below to calculate the importance weights."
   ]
  },
  {
   "cell_type": "code",
   "execution_count": 4,
   "metadata": {
    "collapsed": false
   },
   "outputs": [
   ],
   "source": [
    "def good_proposal_pdf(mu, sigma):\n",
    "    return sts.norm.pdf(mu, loc=0, scale=5) * sts.norm.pdf(sigma, loc=3, scale=2)\n",
    "\n",
    "# Calculate the importance weights, p(sample) / q(sample). You need the\n",
    "# importance weights to compute expected values under the target distribution.\n",
    "p_values = unnormalized_posterior(samples['mu'], samples['sigma'], data)\n",
    "q_values = good_proposal_pdf(samples['mu'], samples['sigma'])\n",
    "importance_weights = p_values / q_values"
   ]
  },
  {
   "cell_type": "code",
   "execution_count": 5,
   "metadata": {
    "collapsed": false
   },
   "outputs": [
    {
     "name": "stdout",
     "output_type": "stream",
     "text": [
      "μ mean:  -0.32694112484283167\n",
      "μ variance:  13.63710720482387\n",
      "σ mean:  2.888110433005975\n",
      "σ variance:  2.2925511026553274\n"
     ]
    }
   ],
   "source": [
    "# TASK: Approximate the mean and standard deviation of mu and sigma using\n",
    "# mu_samples, sigma_samples, and the importance weights calculated above.\n",
    "\n",
    "total_importance = np.sum(importance_weights)\n",
    "\n",
    "expected_mu = np.sum(samples['mu'] * importance_weights) / total_importance\n",
    "expected_mu_squared = np.sum(samples['mu'] ** 2 * importance_weights) / total_importance\n",
    "\n",
    "expected_sigma = np.sum(samples['sigma'] * importance_weights) / total_importance\n",
    "expected_sigma_squared = np.sum(samples['sigma'] ** 2 * importance_weights) / total_importance\n",
    "\n",
    "mu_mean = expected_mu\n",
    "mu_var = expected_mu_squared - expected_mu ** 2\n",
    "\n",
    "sigma_mean = expected_sigma\n",
    "sigma_var = expected_sigma_squared - expected_sigma ** 2\n",
    "\n",
    "print('μ mean: ', mu_mean)\n",
    "print('μ variance: ', mu_var)\n",
    "print('σ mean: ', sigma_mean)\n",
    "print('σ variance: ', sigma_var)"
   ]
  },
  {
   "cell_type": "code",
   "execution_count": 0,
   "metadata": {
    "collapsed": false
   },
   "outputs": [
   ],
   "source": [
   ]
  }
 ],
 "metadata": {
  "kernelspec": {
   "display_name": "Python 3 (Anaconda 2020)",
   "env": {
    "ADDR2LINE": "/ext/anaconda2020.02/bin/x86_64-conda_cos6-linux-gnu-addr2line",
    "ANACONDA2019": "$EXT/anaconda-2019.03",
    "ANACONDA2020": "/ext/anaconda2020.02",
    "ANACONDA3": "$EXT/anaconda3",
    "ANACONDA5": "$EXT/anaconda5",
    "AR": "/ext/anaconda2020.02/bin/x86_64-conda_cos6-linux-gnu-ar",
    "AS": "/ext/anaconda2020.02/bin/x86_64-conda_cos6-linux-gnu-as",
    "CC": "/ext/anaconda2020.02/bin/x86_64-conda_cos6-linux-gnu-cc",
    "CFLAGS": "-march=nocona -mtune=haswell -ftree-vectorize -fPIC -fstack-protector-strong -fno-plt -O2 -ffunction-sections -pipe -isystem /ext/anaconda2020.02/include",
    "CMAKE_PREFIX_PATH": "/ext/anaconda2020.02:/ext/anaconda2020.02/x86_64-conda_cos6-linux-gnu/sysroot/usr",
    "CONDA_BACKUP_HOST": "x86_64-conda_cos6-linux-gnu",
    "CONDA_BUILD_SYSROOT": "/ext/anaconda2020.02/x86_64-conda_cos6-linux-gnu/sysroot",
    "CONDA_DEFAULT_ENV": "base",
    "CONDA_EXE": "/ext/anaconda2020.02/bin/conda",
    "CONDA_MKL_INTERFACE_LAYER_BACKUP": "",
    "CONDA_PREFIX": "/ext/anaconda2020.02",
    "CONDA_PROMPT_MODIFIER": "(base) ",
    "CONDA_PYTHON_EXE": "/ext/anaconda2020.02/bin/python",
    "CONDA_SHLVL": "1",
    "CPP": "/ext/anaconda2020.02/bin/x86_64-conda_cos6-linux-gnu-cpp",
    "CPPFLAGS": "-DNDEBUG -D_FORTIFY_SOURCE=2 -O2 -isystem /ext/anaconda2020.02/include",
    "CXX": "/ext/anaconda2020.02/bin/x86_64-conda_cos6-linux-gnu-c++",
    "CXXFILT": "/ext/anaconda2020.02/bin/x86_64-conda_cos6-linux-gnu-c++filt",
    "CXXFLAGS": "-fvisibility-inlines-hidden -std=c++17 -fmessage-length=0 -march=nocona -mtune=haswell -ftree-vectorize -fPIC -fstack-protector-strong -fno-plt -O2 -ffunction-sections -pipe -isystem /ext/anaconda2020.02/include",
    "DEBUG_CFLAGS": "-march=nocona -mtune=haswell -ftree-vectorize -fPIC -fstack-protector-all -fno-plt -Og -g -Wall -Wextra -fvar-tracking-assignments -ffunction-sections -pipe -isystem /ext/anaconda2020.02/include",
    "DEBUG_CPPFLAGS": "-D_DEBUG -D_FORTIFY_SOURCE=2 -Og -isystem /ext/anaconda2020.02/include",
    "DEBUG_CXXFLAGS": "-fvisibility-inlines-hidden -std=c++17 -fmessage-length=0 -march=nocona -mtune=haswell -ftree-vectorize -fPIC -fstack-protector-all -fno-plt -Og -g -Wall -Wextra -fvar-tracking-assignments -ffunction-sections -pipe -isystem /ext/anaconda2020.02/include",
    "DEBUG_FFLAGS": "-fopenmp -march=nocona -mtune=haswell -ftree-vectorize -fPIC -fstack-protector-strong -fno-plt -O2 -ffunction-sections -pipe -isystem /ext/anaconda2020.02/include -fopenmp -march=nocona -mtune=haswell -ftree-vectorize -fPIC -fstack-protector-all -fno-plt -Og -g -Wall -Wextra -fcheck=all -fbacktrace -fimplicit-none -fvar-tracking-assignments -ffunction-sections -pipe",
    "DEBUG_FORTRANFLAGS": "-fopenmp -march=nocona -mtune=haswell -ftree-vectorize -fPIC -fstack-protector-strong -fno-plt -O2 -ffunction-sections -pipe -isystem /ext/anaconda2020.02/include -fopenmp -march=nocona -mtune=haswell -ftree-vectorize -fPIC -fstack-protector-all -fno-plt -Og -g -Wall -Wextra -fcheck=all -fbacktrace -fimplicit-none -fvar-tracking-assignments -ffunction-sections -pipe",
    "ELFEDIT": "/ext/anaconda2020.02/bin/x86_64-conda_cos6-linux-gnu-elfedit",
    "F77": "/ext/anaconda2020.02/bin/x86_64-conda_cos6-linux-gnu-gfortran",
    "F90": "/ext/anaconda2020.02/bin/x86_64-conda_cos6-linux-gnu-gfortran",
    "F95": "/ext/anaconda2020.02/bin/x86_64-conda_cos6-linux-gnu-f95",
    "FC": "/ext/anaconda2020.02/bin/x86_64-conda_cos6-linux-gnu-gfortran",
    "FFLAGS": "-fopenmp -march=nocona -mtune=haswell -ftree-vectorize -fPIC -fstack-protector-strong -fno-plt -O2 -ffunction-sections -pipe -isystem /ext/anaconda2020.02/include",
    "FORTRANFLAGS": "-fopenmp -march=nocona -mtune=haswell -ftree-vectorize -fPIC -fstack-protector-strong -fno-plt -O2 -ffunction-sections -pipe -isystem /ext/anaconda2020.02/include",
    "GCC": "/ext/anaconda2020.02/bin/x86_64-conda_cos6-linux-gnu-gcc",
    "GCC_AR": "/ext/anaconda2020.02/bin/x86_64-conda_cos6-linux-gnu-gcc-ar",
    "GCC_NM": "/ext/anaconda2020.02/bin/x86_64-conda_cos6-linux-gnu-gcc-nm",
    "GCC_RANLIB": "/ext/anaconda2020.02/bin/x86_64-conda_cos6-linux-gnu-gcc-ranlib",
    "GDAL_DATA": "/ext/anaconda2020.02/share/gdal",
    "GFORTRAN": "/ext/anaconda2020.02/bin/x86_64-conda_cos6-linux-gnu-gfortran",
    "GPROF": "/ext/anaconda2020.02/bin/x86_64-conda_cos6-linux-gnu-gprof",
    "GXX": "/ext/anaconda2020.02/bin/x86_64-conda_cos6-linux-gnu-g++",
    "JAVA_HOME": "/ext/anaconda2020.02",
    "JAVA_HOME_CONDA_BACKUP": "",
    "JAVA_LD_LIBRARY_PATH": "/ext/anaconda2020.02/lib/server",
    "LD": "/ext/anaconda2020.02/bin/x86_64-conda_cos6-linux-gnu-ld",
    "LDFLAGS": "-Wl,-O2 -Wl,--sort-common -Wl,--as-needed -Wl,-z,relro -Wl,-z,now -Wl,--disable-new-dtags -Wl,--gc-sections -Wl,-rpath,/ext/anaconda2020.02/lib -Wl,-rpath-link,/ext/anaconda2020.02/lib -L/ext/anaconda2020.02/lib",
    "LD_GOLD": "/ext/anaconda2020.02/bin/x86_64-conda_cos6-linux-gnu-ld.gold",
    "LD_LIBRARY_PATH": "/ext/anaconda2020.02/lib",
    "MKL_INTERFACE_LAYER": "LP64,GNU",
    "MKL_THREADING_LAYER": "GNU",
    "NM": "/ext/anaconda2020.02/bin/x86_64-conda_cos6-linux-gnu-nm",
    "OBJCOPY": "/ext/anaconda2020.02/bin/x86_64-conda_cos6-linux-gnu-objcopy",
    "OBJDUMP": "/ext/anaconda2020.02/bin/x86_64-conda_cos6-linux-gnu-objdump",
    "OLDPWD": "/ext/anaconda2020.02",
    "PATH": "/ext/anaconda2020.02/bin:/ext/anaconda2020.02/bin:/ext/anaconda2020.02/condabin:/cocalc/bin:/cocalc/src/smc-project/bin:/home/salvus/bin:/home/salvus/.local/bin:/usr/lib/xpra:/ext/bin:/opt/ghc/bin:/usr/local/sbin:/usr/local/bin:/usr/sbin:/usr/bin:/sbin:/bin:/snap/bin:/usr/lib/postgresql/10/bin:/ext/data/homer/bin:/ext/data/weblogo",
    "PROJ_LIB": "/ext/anaconda2020.02/share/proj",
    "RANLIB": "/ext/anaconda2020.02/bin/x86_64-conda_cos6-linux-gnu-ranlib",
    "READELF": "/ext/anaconda2020.02/bin/x86_64-conda_cos6-linux-gnu-readelf",
    "RSTUDIO_WHICH_R": "/ext/anaconda2020.02/bin/R",
    "SIZE": "/ext/anaconda2020.02/bin/x86_64-conda_cos6-linux-gnu-size",
    "STRINGS": "/ext/anaconda2020.02/bin/x86_64-conda_cos6-linux-gnu-strings",
    "STRIP": "/ext/anaconda2020.02/bin/x86_64-conda_cos6-linux-gnu-strip",
    "_CE_CONDA": "",
    "_CE_M": "",
    "_CONDA_PYTHON_SYSCONFIGDATA_NAME": "_sysconfigdata_x86_64_conda_cos6_linux_gnu"
   },
   "language": "python",
   "metadata": {
    "cocalc": {
     "description": "Python/R distribution for data science",
     "priority": 5,
     "url": "https://www.anaconda.com/distribution/"
    }
   },
   "name": "anaconda2020",
   "resource_dir": "/ext/jupyter/kernels/anaconda2020"
  },
  "language_info": {
   "codemirror_mode": {
    "name": "ipython",
    "version": 3
   },
   "file_extension": ".py",
   "mimetype": "text/x-python",
   "name": "python",
   "nbconvert_exporter": "python",
   "pygments_lexer": "ipython3",
   "version": "3.7.8"
  }
 },
 "nbformat": 4,
 "nbformat_minor": 4
}